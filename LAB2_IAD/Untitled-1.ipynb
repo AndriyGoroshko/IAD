{
 "cells": [
  {
   "cell_type": "code",
   "execution_count": null,
   "metadata": {},
   "outputs": [],
   "source": []
  }
 ],
 "metadata": {
  "kernelspec": {
   "display_name": "Python 3.10.6 64-bit",
   "language": "python",
   "name": "python3"
  },
  "language_info": {
   "name": "python",
   "version": "3.10.6"
  },
  "orig_nbformat": 4,
  "vscode": {
   "interpreter": {
    "hash": "c3cb1dd373ca4450157e6f8978f97933cc3a7cdc0a8066204e60afd9526c388d"
   }
  }
 },
 "nbformat": 4,
 "nbformat_minor": 2
}
